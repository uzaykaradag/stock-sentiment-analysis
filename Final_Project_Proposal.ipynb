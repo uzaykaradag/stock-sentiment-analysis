{
 "cells": [
  {
   "cell_type": "markdown",
   "id": "ed6ec0cf",
   "metadata": {},
   "source": [
    "# Stock Price Sentiment Analysis using Tweet Data\n",
    "\n",
    "## Team Members\n",
    "\n",
    "\n",
    "1. Uzay Karadağ | 090200738\n",
    "2. Hasan Çelik | 090180305\n",
    "3. Muhammed Fatih Kaya | 090200751\n",
    "\n",
    "## Dataset\n",
    "\n",
    "We are going to use the **[tweepy](https://www.tweepy.org/)** module to gather tweets using the Twitter API for the given stock using queries containing the respective ticker.\n",
    "\n",
    "\n",
    "## Description of the Problem\n",
    "\n",
    "After gathering tweets about our respective stocks we will perform sentiment anlaysis on the tweets about the given ticker using various NLP modules. We will then use this sentiments to predict if the stock will close higher or lower than the opening price on that date. We will test the data using the price time series from the **yfinance** module.\n",
    "\n",
    "## Project Planning\n",
    "\n",
    "First we will start off by acquiring the raw tweets from the **tweepy** module and then process the raw text data using the several methods we learned during the class. We will then form a DataFrame using the **pandas** library where individual tickers and dates are listed properly.\n",
    "\n",
    "Second, we will do Exploratory Data Analysis to get a better picture on the dataset.\n",
    "\n",
    "We will then use **spaCy** and **NLTK** to perform sentiment analysis in the newly formed DataFrame. We may fine tune features and other parameters given the accuracy of our model.\n",
    "\n",
    "Lastly, we will test the model against historical price data gathered from **yfinance**. May circle back to Step 2 if needed.\n",
    "\n",
    "\n",
    "### Project Pieces\n",
    "\n",
    "1. Data Acquisition | Uzay Karadağ\n",
    "2. Data Cleaning and Preprocessing | Uzay Karadağ\n",
    "3. EDA | Hasan Çelik\n",
    "4. Analysis of EDA | Hasan Çelik\n",
    "5. Literature Review, Feature Engineering |  Fatih Kaya\n",
    "6. Model Construction | Fatih Kaya\n",
    "\n",
    "\n",
    "### Hardware and Software\n",
    "\n",
    "1. Uzay Karadağ: 2017 MacBook Pro | 2,3 GHz Dual-Core Intel Core i5, 8GB RAM\n",
    "2. Fatih Kaya: Monster Abra A5 v15.5 | 2.4 GHz Quad-Core Intel Core i5, 16GB RAM \n",
    "3. Hasan Çelik: Dell Vostro 3515 |  2,6 GHz AMD Ryzen7, 16 GB RAM\n",
    "\n",
    "*Google Colab might be used for GPU and/or TPU computation if needed.*"
   ]
  }
 ],
 "metadata": {
  "kernelspec": {
   "display_name": "Python 3.10.8 64-bit",
   "language": "python",
   "name": "python3"
  },
  "language_info": {
   "codemirror_mode": {
    "name": "ipython",
    "version": 3
   },
   "file_extension": ".py",
   "mimetype": "text/x-python",
   "name": "python",
   "nbconvert_exporter": "python",
   "pygments_lexer": "ipython3",
   "version": "3.10.8"
  },
  "vscode": {
   "interpreter": {
    "hash": "aee8b7b246df8f9039afb4144a1f6fd8d2ca17a180786b69acc140d282b71a49"
   }
  }
 },
 "nbformat": 4,
 "nbformat_minor": 5
}
